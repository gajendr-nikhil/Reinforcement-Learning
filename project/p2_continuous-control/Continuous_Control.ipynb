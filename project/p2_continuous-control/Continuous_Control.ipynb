{
 "cells": [
  {
   "cell_type": "markdown",
   "metadata": {},
   "source": [
    "# Continuous Control\n",
    "\n",
    "---\n",
    "\n",
    "You are welcome to use this coding environment to train your agent for the project.  Follow the instructions below to get started!\n",
    "\n",
    "### 1. Start the Environment\n",
    "\n",
    "Run the next code cell to install a few packages.  This line will take a few minutes to run!"
   ]
  },
  {
   "cell_type": "code",
   "execution_count": 1,
   "metadata": {},
   "outputs": [
    {
     "name": "stdout",
     "output_type": "stream",
     "text": [
      "\u001b[31mtensorflow 1.7.1 has requirement numpy>=1.13.3, but you'll have numpy 1.12.1 which is incompatible.\u001b[0m\r\n",
      "\u001b[31mipython 6.5.0 has requirement prompt-toolkit<2.0.0,>=1.0.15, but you'll have prompt-toolkit 3.0.5 which is incompatible.\u001b[0m\r\n"
     ]
    }
   ],
   "source": [
    "!pip -q install ./python"
   ]
  },
  {
   "cell_type": "markdown",
   "metadata": {},
   "source": [
    "The environments corresponding to both versions of the environment are already saved in the Workspace and can be accessed at the file paths provided below.  \n",
    "\n",
    "Please select one of the two options below for loading the environment."
   ]
  },
  {
   "cell_type": "code",
   "execution_count": 2,
   "metadata": {},
   "outputs": [
    {
     "name": "stderr",
     "output_type": "stream",
     "text": [
      "INFO:unityagents:\n",
      "'Academy' started successfully!\n",
      "Unity Academy name: Academy\n",
      "        Number of Brains: 1\n",
      "        Number of External Brains : 1\n",
      "        Lesson number : 0\n",
      "        Reset Parameters :\n",
      "\t\tgoal_speed -> 1.0\n",
      "\t\tgoal_size -> 5.0\n",
      "Unity brain name: ReacherBrain\n",
      "        Number of Visual Observations (per agent): 0\n",
      "        Vector Observation space type: continuous\n",
      "        Vector Observation space size (per agent): 33\n",
      "        Number of stacked Vector Observation: 1\n",
      "        Vector Action space type: continuous\n",
      "        Vector Action space size (per agent): 4\n",
      "        Vector Action descriptions: , , , \n"
     ]
    }
   ],
   "source": [
    "from unityagents import UnityEnvironment\n",
    "import numpy as np\n",
    "\n",
    "# select this option to load version 1 (with a single agent) of the environment\n",
    "env = UnityEnvironment(file_name='/data/Reacher_One_Linux_NoVis/Reacher_One_Linux_NoVis.x86_64')\n",
    "\n",
    "# select this option to load version 2 (with 20 agents) of the environment\n",
    "# env = UnityEnvironment(file_name='/data/Reacher_Linux_NoVis/Reacher.x86_64')"
   ]
  },
  {
   "cell_type": "markdown",
   "metadata": {},
   "source": [
    "Environments contain **_brains_** which are responsible for deciding the actions of their associated agents. Here we check for the first brain available, and set it as the default brain we will be controlling from Python."
   ]
  },
  {
   "cell_type": "code",
   "execution_count": 3,
   "metadata": {},
   "outputs": [],
   "source": [
    "# get the default brain\n",
    "brain_name = env.brain_names[0]\n",
    "brain = env.brains[brain_name]"
   ]
  },
  {
   "cell_type": "markdown",
   "metadata": {},
   "source": [
    "### 2. Examine the State and Action Spaces\n",
    "\n",
    "Run the code cell below to print some information about the environment."
   ]
  },
  {
   "cell_type": "code",
   "execution_count": 4,
   "metadata": {},
   "outputs": [
    {
     "name": "stdout",
     "output_type": "stream",
     "text": [
      "Number of agents: 1\n",
      "Size of each action: 4\n",
      "There are 1 agents. Each observes a state with length: 33\n",
      "The state for the first agent looks like: [  0.00000000e+00  -4.00000000e+00   0.00000000e+00   1.00000000e+00\n",
      "  -0.00000000e+00  -0.00000000e+00  -4.37113883e-08   0.00000000e+00\n",
      "   0.00000000e+00   0.00000000e+00   0.00000000e+00   0.00000000e+00\n",
      "   0.00000000e+00   0.00000000e+00  -1.00000000e+01   0.00000000e+00\n",
      "   1.00000000e+00  -0.00000000e+00  -0.00000000e+00  -4.37113883e-08\n",
      "   0.00000000e+00   0.00000000e+00   0.00000000e+00   0.00000000e+00\n",
      "   0.00000000e+00   0.00000000e+00   5.75471878e+00  -1.00000000e+00\n",
      "   5.55726671e+00   0.00000000e+00   1.00000000e+00   0.00000000e+00\n",
      "  -1.68164849e-01]\n"
     ]
    }
   ],
   "source": [
    "# reset the environment\n",
    "env_info = env.reset(train_mode=True)[brain_name]\n",
    "\n",
    "# number of agents\n",
    "num_agents = len(env_info.agents)\n",
    "print('Number of agents:', num_agents)\n",
    "\n",
    "# size of each action\n",
    "action_size = brain.vector_action_space_size\n",
    "print('Size of each action:', action_size)\n",
    "\n",
    "# examine the state space \n",
    "states = env_info.vector_observations\n",
    "state_size = states.shape[1]\n",
    "print('There are {} agents. Each observes a state with length: {}'.format(states.shape[0], state_size))\n",
    "print('The state for the first agent looks like:', states[0])"
   ]
  },
  {
   "cell_type": "markdown",
   "metadata": {},
   "source": [
    "### 3. Take Random Actions in the Environment\n",
    "\n",
    "In the next code cell, you will learn how to use the Python API to control the agent and receive feedback from the environment.\n",
    "\n",
    "Note that **in this coding environment, you will not be able to watch the agents while they are training**, and you should set `train_mode=True` to restart the environment."
   ]
  },
  {
   "cell_type": "code",
   "execution_count": 5,
   "metadata": {},
   "outputs": [
    {
     "name": "stdout",
     "output_type": "stream",
     "text": [
      "Total score (averaged over agents) this episode: 0.0\n"
     ]
    }
   ],
   "source": [
    "env_info = env.reset(train_mode=True)[brain_name]      # reset the environment    \n",
    "states = env_info.vector_observations                  # get the current state (for each agent)\n",
    "scores = np.zeros(num_agents)                          # initialize the score (for each agent)\n",
    "while True:\n",
    "    actions = np.random.randn(num_agents, action_size) # select an action (for each agent)\n",
    "    actions = np.clip(actions, -1, 1)                  # all actions between -1 and 1\n",
    "    env_info = env.step(actions)[brain_name]           # send all actions to tne environment\n",
    "    next_states = env_info.vector_observations         # get next state (for each agent)\n",
    "    rewards = env_info.rewards                         # get reward (for each agent)\n",
    "    dones = env_info.local_done                        # see if episode finished\n",
    "    scores += env_info.rewards                         # update the score (for each agent)\n",
    "    states = next_states                               # roll over states to next time step\n",
    "    if np.any(dones):                                  # exit loop if episode finished\n",
    "        break\n",
    "print('Total score (averaged over agents) this episode: {}'.format(np.mean(scores)))"
   ]
  },
  {
   "cell_type": "markdown",
   "metadata": {},
   "source": [
    "When finished, you can close the environment."
   ]
  },
  {
   "cell_type": "code",
   "execution_count": 6,
   "metadata": {},
   "outputs": [],
   "source": [
    "# env.close()"
   ]
  },
  {
   "cell_type": "markdown",
   "metadata": {},
   "source": [
    "### 4. It's Your Turn!\n",
    "\n",
    "Now it's your turn to train your own agent to solve the environment!  A few **important notes**:\n",
    "- When training the environment, set `train_mode=True`, so that the line for resetting the environment looks like the following:\n",
    "```python\n",
    "env_info = env.reset(train_mode=True)[brain_name]\n",
    "```\n",
    "- To structure your work, you're welcome to work directly in this Jupyter notebook, or you might like to start over with a new file!  You can see the list of files in the workspace by clicking on **_Jupyter_** in the top left corner of the notebook.\n",
    "- In this coding environment, you will not be able to watch the agents while they are training.  However, **_after training the agents_**, you can download the saved model weights to watch the agents on your own machine! "
   ]
  },
  {
   "cell_type": "code",
   "execution_count": 7,
   "metadata": {
    "scrolled": true
   },
   "outputs": [
    {
     "name": "stdout",
     "output_type": "stream",
     "text": [
      "\r",
      "Episode 1\tTotal Average Score: 0.21\tMean: 0.21\tMin: 0.21\tMax: 0.21\tDuration: 3.03\n"
     ]
    },
    {
     "name": "stderr",
     "output_type": "stream",
     "text": [
      "/home/workspace/ddpg_agent.py:103: UserWarning: torch.nn.utils.clip_grad_norm is now deprecated in favor of torch.nn.utils.clip_grad_norm_.\n",
      "  torch.nn.utils.clip_grad_norm(self.critic_local.parameters(), 1)\n"
     ]
    },
    {
     "name": "stdout",
     "output_type": "stream",
     "text": [
      "Episode 2\tTotal Average Score: 0.10\tMean: 0.00\tMin: 0.00\tMax: 0.00\tDuration: 23.28\n",
      "Episode 3\tTotal Average Score: 0.23\tMean: 0.49\tMin: 0.49\tMax: 0.49\tDuration: 24.17\n",
      "Episode 4\tTotal Average Score: 0.35\tMean: 0.71\tMin: 0.71\tMax: 0.71\tDuration: 24.29\n",
      "Episode 5\tTotal Average Score: 0.28\tMean: 0.00\tMin: 0.00\tMax: 0.00\tDuration: 24.55\n",
      "Episode 6\tTotal Average Score: 0.23\tMean: 0.00\tMin: 0.00\tMax: 0.00\tDuration: 24.29\n",
      "Episode 7\tTotal Average Score: 0.22\tMean: 0.12\tMin: 0.12\tMax: 0.12\tDuration: 24.47\n",
      "Episode 8\tTotal Average Score: 0.22\tMean: 0.27\tMin: 0.27\tMax: 0.27\tDuration: 24.48\n",
      "Episode 9\tTotal Average Score: 0.21\tMean: 0.08\tMin: 0.08\tMax: 0.08\tDuration: 24.61\n",
      "Episode 10\tTotal Average Score: 0.19\tMean: 0.00\tMin: 0.00\tMax: 0.00\tDuration: 24.68\n",
      "Episode 10\tTotal Average Score: 0.19\n",
      "Episode 11\tTotal Average Score: 0.18\tMean: 0.05\tMin: 0.05\tMax: 0.05\tDuration: 24.61\n",
      "Episode 12\tTotal Average Score: 0.32\tMean: 1.92\tMin: 1.92\tMax: 1.92\tDuration: 24.58\n",
      "Episode 13\tTotal Average Score: 0.41\tMean: 1.47\tMin: 1.47\tMax: 1.47\tDuration: 24.70\n",
      "Episode 14\tTotal Average Score: 0.51\tMean: 1.77\tMin: 1.77\tMax: 1.77\tDuration: 24.63\n",
      "Episode 15\tTotal Average Score: 0.63\tMean: 2.33\tMin: 2.33\tMax: 2.33\tDuration: 24.56\n",
      "Episode 16\tTotal Average Score: 0.68\tMean: 1.44\tMin: 1.44\tMax: 1.44\tDuration: 24.46\n",
      "Episode 17\tTotal Average Score: 0.70\tMean: 1.11\tMin: 1.11\tMax: 1.11\tDuration: 24.63\n",
      "Episode 18\tTotal Average Score: 0.76\tMean: 1.67\tMin: 1.67\tMax: 1.67\tDuration: 24.53\n",
      "Episode 19\tTotal Average Score: 0.74\tMean: 0.40\tMin: 0.40\tMax: 0.40\tDuration: 24.79\n",
      "Episode 20\tTotal Average Score: 0.78\tMean: 1.63\tMin: 1.63\tMax: 1.63\tDuration: 24.65\n",
      "Episode 20\tTotal Average Score: 0.78\n",
      "Episode 21\tTotal Average Score: 0.81\tMean: 1.44\tMin: 1.44\tMax: 1.44\tDuration: 24.50\n",
      "Episode 22\tTotal Average Score: 0.83\tMean: 1.12\tMin: 1.12\tMax: 1.12\tDuration: 24.69\n",
      "Episode 23\tTotal Average Score: 0.89\tMean: 2.22\tMin: 2.22\tMax: 2.22\tDuration: 24.53\n",
      "Episode 24\tTotal Average Score: 0.92\tMean: 1.53\tMin: 1.53\tMax: 1.53\tDuration: 24.66\n",
      "Episode 25\tTotal Average Score: 1.01\tMean: 3.37\tMin: 3.37\tMax: 3.37\tDuration: 24.77\n",
      "Episode 26\tTotal Average Score: 1.07\tMean: 2.37\tMin: 2.37\tMax: 2.37\tDuration: 24.69\n",
      "Episode 27\tTotal Average Score: 1.18\tMean: 4.26\tMin: 4.26\tMax: 4.26\tDuration: 24.63\n",
      "Episode 28\tTotal Average Score: 1.26\tMean: 3.32\tMin: 3.32\tMax: 3.32\tDuration: 24.87\n",
      "Episode 29\tTotal Average Score: 1.30\tMean: 2.54\tMin: 2.54\tMax: 2.54\tDuration: 24.80\n",
      "Episode 30\tTotal Average Score: 1.32\tMean: 1.71\tMin: 1.71\tMax: 1.71\tDuration: 24.58\n",
      "Episode 30\tTotal Average Score: 1.32\n",
      "Episode 31\tTotal Average Score: 1.39\tMean: 3.69\tMin: 3.69\tMax: 3.69\tDuration: 24.53\n",
      "Episode 32\tTotal Average Score: 1.41\tMean: 1.92\tMin: 1.92\tMax: 1.92\tDuration: 24.49\n",
      "Episode 33\tTotal Average Score: 1.56\tMean: 6.21\tMin: 6.21\tMax: 6.21\tDuration: 24.48\n",
      "Episode 34\tTotal Average Score: 1.67\tMean: 5.39\tMin: 5.39\tMax: 5.39\tDuration: 24.76\n",
      "Episode 35\tTotal Average Score: 1.74\tMean: 4.02\tMin: 4.02\tMax: 4.02\tDuration: 24.62\n",
      "Episode 36\tTotal Average Score: 1.70\tMean: 0.47\tMin: 0.47\tMax: 0.47\tDuration: 24.67\n",
      "Episode 37\tTotal Average Score: 1.74\tMean: 3.04\tMin: 3.04\tMax: 3.04\tDuration: 24.33\n",
      "Episode 38\tTotal Average Score: 1.78\tMean: 3.34\tMin: 3.34\tMax: 3.34\tDuration: 24.53\n",
      "Episode 39\tTotal Average Score: 1.89\tMean: 6.25\tMin: 6.25\tMax: 6.25\tDuration: 24.72\n",
      "Episode 40\tTotal Average Score: 1.94\tMean: 3.70\tMin: 3.70\tMax: 3.70\tDuration: 24.74\n",
      "Episode 40\tTotal Average Score: 1.94\n",
      "Episode 41\tTotal Average Score: 2.02\tMean: 5.42\tMin: 5.42\tMax: 5.42\tDuration: 24.80\n",
      "Episode 42\tTotal Average Score: 2.06\tMean: 3.48\tMin: 3.48\tMax: 3.48\tDuration: 24.86\n",
      "Episode 43\tTotal Average Score: 2.09\tMean: 3.55\tMin: 3.55\tMax: 3.55\tDuration: 24.99\n",
      "Episode 44\tTotal Average Score: 2.14\tMean: 4.00\tMin: 4.00\tMax: 4.00\tDuration: 25.07\n",
      "Episode 45\tTotal Average Score: 2.14\tMean: 2.24\tMin: 2.24\tMax: 2.24\tDuration: 24.97\n",
      "Episode 46\tTotal Average Score: 2.25\tMean: 7.28\tMin: 7.28\tMax: 7.28\tDuration: 24.95\n",
      "Episode 47\tTotal Average Score: 2.29\tMean: 4.07\tMin: 4.07\tMax: 4.07\tDuration: 24.88\n",
      "Episode 48\tTotal Average Score: 2.39\tMean: 7.28\tMin: 7.28\tMax: 7.28\tDuration: 24.80\n",
      "Episode 49\tTotal Average Score: 2.44\tMean: 4.75\tMin: 4.75\tMax: 4.75\tDuration: 24.58\n",
      "Episode 50\tTotal Average Score: 2.59\tMean: 9.61\tMin: 9.61\tMax: 9.61\tDuration: 24.96\n",
      "Episode 50\tTotal Average Score: 2.59\n",
      "Episode 51\tTotal Average Score: 2.74\tMean: 10.39\tMin: 10.39\tMax: 10.39\tDuration: 25.12\n",
      "Episode 52\tTotal Average Score: 2.94\tMean: 13.21\tMin: 13.21\tMax: 13.21\tDuration: 24.99\n",
      "Episode 53\tTotal Average Score: 2.96\tMean: 4.03\tMin: 4.03\tMax: 4.03\tDuration: 24.95\n",
      "Episode 54\tTotal Average Score: 2.98\tMean: 4.13\tMin: 4.13\tMax: 4.13\tDuration: 24.93\n",
      "Episode 55\tTotal Average Score: 3.01\tMean: 4.73\tMin: 4.73\tMax: 4.73\tDuration: 25.00\n",
      "Episode 56\tTotal Average Score: 3.17\tMean: 11.66\tMin: 11.66\tMax: 11.66\tDuration: 25.01\n",
      "Episode 57\tTotal Average Score: 3.29\tMean: 10.15\tMin: 10.15\tMax: 10.15\tDuration: 25.07\n",
      "Episode 58\tTotal Average Score: 3.28\tMean: 2.67\tMin: 2.67\tMax: 2.67\tDuration: 25.20\n",
      "Episode 59\tTotal Average Score: 3.32\tMean: 5.76\tMin: 5.76\tMax: 5.76\tDuration: 25.15\n",
      "Episode 60\tTotal Average Score: 3.41\tMean: 8.65\tMin: 8.65\tMax: 8.65\tDuration: 24.98\n",
      "Episode 60\tTotal Average Score: 3.41\n",
      "Episode 61\tTotal Average Score: 3.53\tMean: 10.53\tMin: 10.53\tMax: 10.53\tDuration: 25.00\n",
      "Episode 62\tTotal Average Score: 3.74\tMean: 16.49\tMin: 16.49\tMax: 16.49\tDuration: 25.16\n",
      "Episode 63\tTotal Average Score: 3.72\tMean: 2.79\tMin: 2.79\tMax: 2.79\tDuration: 25.09\n",
      "Episode 64\tTotal Average Score: 3.87\tMean: 13.16\tMin: 13.16\tMax: 13.16\tDuration: 25.16\n",
      "Episode 65\tTotal Average Score: 3.92\tMean: 7.34\tMin: 7.34\tMax: 7.34\tDuration: 25.11\n",
      "Episode 66\tTotal Average Score: 3.92\tMean: 3.55\tMin: 3.55\tMax: 3.55\tDuration: 25.23\n",
      "Episode 67\tTotal Average Score: 3.99\tMean: 9.04\tMin: 9.04\tMax: 9.04\tDuration: 25.38\n",
      "Episode 68\tTotal Average Score: 4.29\tMean: 24.03\tMin: 24.03\tMax: 24.03\tDuration: 25.23\n",
      "Episode 69\tTotal Average Score: 4.47\tMean: 16.52\tMin: 16.52\tMax: 16.52\tDuration: 25.04\n",
      "Episode 70\tTotal Average Score: 4.57\tMean: 11.76\tMin: 11.76\tMax: 11.76\tDuration: 25.37\n",
      "Episode 70\tTotal Average Score: 4.57\n",
      "Episode 71\tTotal Average Score: 4.77\tMean: 18.94\tMin: 18.94\tMax: 18.94\tDuration: 25.15\n",
      "Episode 72\tTotal Average Score: 4.91\tMean: 14.57\tMin: 14.57\tMax: 14.57\tDuration: 25.55\n",
      "Episode 73\tTotal Average Score: 4.98\tMean: 9.86\tMin: 9.86\tMax: 9.86\tDuration: 25.44\n",
      "Episode 74\tTotal Average Score: 5.01\tMean: 7.60\tMin: 7.60\tMax: 7.60\tDuration: 25.49\n",
      "Episode 75\tTotal Average Score: 5.10\tMean: 11.82\tMin: 11.82\tMax: 11.82\tDuration: 25.41\n",
      "Episode 76\tTotal Average Score: 5.25\tMean: 16.14\tMin: 16.14\tMax: 16.14\tDuration: 25.36\n",
      "Episode 77\tTotal Average Score: 5.34\tMean: 12.47\tMin: 12.47\tMax: 12.47\tDuration: 25.47\n",
      "Episode 78\tTotal Average Score: 5.46\tMean: 14.47\tMin: 14.47\tMax: 14.47\tDuration: 25.35\n",
      "Episode 79\tTotal Average Score: 5.58\tMean: 15.33\tMin: 15.33\tMax: 15.33\tDuration: 25.40\n",
      "Episode 80\tTotal Average Score: 5.71\tMean: 16.02\tMin: 16.02\tMax: 16.02\tDuration: 25.30\n",
      "Episode 80\tTotal Average Score: 5.71\n",
      "Episode 81\tTotal Average Score: 5.90\tMean: 20.59\tMin: 20.59\tMax: 20.59\tDuration: 25.59\n",
      "Episode 82\tTotal Average Score: 6.15\tMean: 26.82\tMin: 26.82\tMax: 26.82\tDuration: 25.58\n",
      "Episode 83\tTotal Average Score: 6.43\tMean: 29.60\tMin: 29.60\tMax: 29.60\tDuration: 25.62\n",
      "Episode 84\tTotal Average Score: 6.57\tMean: 17.89\tMin: 17.89\tMax: 17.89\tDuration: 25.87\n",
      "Episode 85\tTotal Average Score: 6.77\tMean: 23.52\tMin: 23.52\tMax: 23.52\tDuration: 25.69\n",
      "Episode 86\tTotal Average Score: 6.82\tMean: 10.72\tMin: 10.72\tMax: 10.72\tDuration: 25.73\n",
      "Episode 87\tTotal Average Score: 7.02\tMean: 24.90\tMin: 24.90\tMax: 24.90\tDuration: 25.51\n",
      "Episode 88\tTotal Average Score: 7.29\tMean: 30.31\tMin: 30.31\tMax: 30.31\tDuration: 25.53\n",
      "Episode 89\tTotal Average Score: 7.40\tMean: 17.45\tMin: 17.45\tMax: 17.45\tDuration: 25.53\n",
      "Episode 90\tTotal Average Score: 7.65\tMean: 29.31\tMin: 29.31\tMax: 29.31\tDuration: 25.57\n",
      "Episode 90\tTotal Average Score: 7.65\n",
      "Episode 91\tTotal Average Score: 7.71\tMean: 13.09\tMin: 13.09\tMax: 13.09\tDuration: 25.53\n",
      "Episode 92\tTotal Average Score: 7.93\tMean: 28.48\tMin: 28.48\tMax: 28.48\tDuration: 25.56\n",
      "Episode 93\tTotal Average Score: 8.00\tMean: 13.80\tMin: 13.80\tMax: 13.80\tDuration: 25.69\n",
      "Episode 94\tTotal Average Score: 8.21\tMean: 28.46\tMin: 28.46\tMax: 28.46\tDuration: 25.73\n"
     ]
    },
    {
     "name": "stdout",
     "output_type": "stream",
     "text": [
      "Episode 95\tTotal Average Score: 8.33\tMean: 19.20\tMin: 19.20\tMax: 19.20\tDuration: 25.59\n",
      "Episode 96\tTotal Average Score: 8.40\tMean: 15.57\tMin: 15.57\tMax: 15.57\tDuration: 25.64\n",
      "Episode 97\tTotal Average Score: 8.70\tMean: 37.28\tMin: 37.28\tMax: 37.28\tDuration: 25.67\n",
      "Episode 98\tTotal Average Score: 8.86\tMean: 24.01\tMin: 24.01\tMax: 24.01\tDuration: 25.69\n",
      "Episode 99\tTotal Average Score: 9.11\tMean: 33.98\tMin: 33.98\tMax: 33.98\tDuration: 25.63\n",
      "Episode 100\tTotal Average Score: 9.31\tMean: 28.48\tMin: 28.48\tMax: 28.48\tDuration: 25.51\n",
      "Episode 100\tTotal Average Score: 9.31\n",
      "Episode 101\tTotal Average Score: 9.65\tMean: 34.62\tMin: 34.62\tMax: 34.62\tDuration: 25.86\n",
      "Episode 102\tTotal Average Score: 9.94\tMean: 29.02\tMin: 29.02\tMax: 29.02\tDuration: 25.86\n",
      "Episode 103\tTotal Average Score: 10.17\tMean: 23.29\tMin: 23.29\tMax: 23.29\tDuration: 25.67\n",
      "Episode 104\tTotal Average Score: 10.37\tMean: 21.20\tMin: 21.20\tMax: 21.20\tDuration: 25.78\n",
      "Episode 105\tTotal Average Score: 10.62\tMean: 25.11\tMin: 25.11\tMax: 25.11\tDuration: 25.93\n",
      "Episode 106\tTotal Average Score: 10.87\tMean: 25.06\tMin: 25.06\tMax: 25.06\tDuration: 25.75\n",
      "Episode 107\tTotal Average Score: 11.13\tMean: 25.38\tMin: 25.38\tMax: 25.38\tDuration: 25.78\n",
      "Episode 108\tTotal Average Score: 11.38\tMean: 25.87\tMin: 25.87\tMax: 25.87\tDuration: 25.94\n",
      "Episode 109\tTotal Average Score: 11.73\tMean: 34.81\tMin: 34.81\tMax: 34.81\tDuration: 25.96\n",
      "Episode 110\tTotal Average Score: 12.03\tMean: 30.45\tMin: 30.45\tMax: 30.45\tDuration: 25.95\n",
      "Episode 110\tTotal Average Score: 12.03\n",
      "Episode 111\tTotal Average Score: 12.31\tMean: 27.26\tMin: 27.26\tMax: 27.26\tDuration: 25.84\n",
      "Episode 112\tTotal Average Score: 12.59\tMean: 30.03\tMin: 30.03\tMax: 30.03\tDuration: 25.92\n",
      "Episode 113\tTotal Average Score: 12.93\tMean: 35.73\tMin: 35.73\tMax: 35.73\tDuration: 25.79\n",
      "Episode 114\tTotal Average Score: 13.26\tMean: 34.55\tMin: 34.55\tMax: 34.55\tDuration: 26.00\n",
      "Episode 115\tTotal Average Score: 13.55\tMean: 31.89\tMin: 31.89\tMax: 31.89\tDuration: 26.09\n",
      "Episode 116\tTotal Average Score: 13.73\tMean: 19.08\tMin: 19.08\tMax: 19.08\tDuration: 25.90\n",
      "Episode 117\tTotal Average Score: 13.96\tMean: 24.40\tMin: 24.40\tMax: 24.40\tDuration: 25.90\n",
      "Episode 118\tTotal Average Score: 14.28\tMean: 33.83\tMin: 33.83\tMax: 33.83\tDuration: 25.91\n",
      "Episode 119\tTotal Average Score: 14.46\tMean: 17.85\tMin: 17.85\tMax: 17.85\tDuration: 25.97\n",
      "Episode 120\tTotal Average Score: 14.77\tMean: 32.23\tMin: 32.23\tMax: 32.23\tDuration: 25.95\n",
      "Episode 120\tTotal Average Score: 14.77\n",
      "Episode 121\tTotal Average Score: 15.12\tMean: 36.85\tMin: 36.85\tMax: 36.85\tDuration: 26.07\n",
      "Episode 122\tTotal Average Score: 15.47\tMean: 35.82\tMin: 35.82\tMax: 35.82\tDuration: 25.96\n",
      "Episode 123\tTotal Average Score: 15.77\tMean: 32.67\tMin: 32.67\tMax: 32.67\tDuration: 25.57\n",
      "Episode 124\tTotal Average Score: 16.12\tMean: 36.50\tMin: 36.50\tMax: 36.50\tDuration: 25.80\n",
      "Episode 125\tTotal Average Score: 16.42\tMean: 33.70\tMin: 33.70\tMax: 33.70\tDuration: 25.99\n",
      "Episode 126\tTotal Average Score: 16.73\tMean: 33.00\tMin: 33.00\tMax: 33.00\tDuration: 25.82\n",
      "Episode 127\tTotal Average Score: 17.01\tMean: 31.88\tMin: 31.88\tMax: 31.88\tDuration: 25.96\n",
      "Episode 128\tTotal Average Score: 17.16\tMean: 18.23\tMin: 18.23\tMax: 18.23\tDuration: 26.03\n",
      "Episode 129\tTotal Average Score: 17.44\tMean: 31.12\tMin: 31.12\tMax: 31.12\tDuration: 26.03\n",
      "Episode 130\tTotal Average Score: 17.56\tMean: 13.78\tMin: 13.78\tMax: 13.78\tDuration: 25.97\n",
      "Episode 130\tTotal Average Score: 17.56\n",
      "Episode 131\tTotal Average Score: 17.87\tMean: 34.93\tMin: 34.93\tMax: 34.93\tDuration: 26.13\n",
      "Episode 132\tTotal Average Score: 18.06\tMean: 20.97\tMin: 20.97\tMax: 20.97\tDuration: 26.29\n",
      "Episode 133\tTotal Average Score: 18.30\tMean: 29.77\tMin: 29.77\tMax: 29.77\tDuration: 26.11\n",
      "Episode 134\tTotal Average Score: 18.55\tMean: 30.48\tMin: 30.48\tMax: 30.48\tDuration: 25.83\n",
      "Episode 135\tTotal Average Score: 18.83\tMean: 31.47\tMin: 31.47\tMax: 31.47\tDuration: 25.89\n",
      "Episode 136\tTotal Average Score: 19.16\tMean: 33.60\tMin: 33.60\tMax: 33.60\tDuration: 26.20\n",
      "Episode 137\tTotal Average Score: 19.46\tMean: 32.85\tMin: 32.85\tMax: 32.85\tDuration: 26.47\n",
      "Episode 138\tTotal Average Score: 19.73\tMean: 30.52\tMin: 30.52\tMax: 30.52\tDuration: 26.49\n",
      "Episode 139\tTotal Average Score: 19.95\tMean: 28.89\tMin: 28.89\tMax: 28.89\tDuration: 26.35\n",
      "Episode 140\tTotal Average Score: 20.22\tMean: 30.56\tMin: 30.56\tMax: 30.56\tDuration: 26.35\n",
      "Episode 140\tTotal Average Score: 20.22\n",
      "Episode 141\tTotal Average Score: 20.41\tMean: 24.27\tMin: 24.27\tMax: 24.27\tDuration: 26.60\n",
      "Episode 142\tTotal Average Score: 20.69\tMean: 31.26\tMin: 31.26\tMax: 31.26\tDuration: 26.47\n",
      "Episode 143\tTotal Average Score: 20.95\tMean: 29.83\tMin: 29.83\tMax: 29.83\tDuration: 26.49\n",
      "Episode 144\tTotal Average Score: 21.04\tMean: 12.49\tMin: 12.49\tMax: 12.49\tDuration: 26.65\n",
      "Episode 145\tTotal Average Score: 21.35\tMean: 33.32\tMin: 33.32\tMax: 33.32\tDuration: 26.52\n",
      "Episode 146\tTotal Average Score: 21.54\tMean: 26.35\tMin: 26.35\tMax: 26.35\tDuration: 26.80\n",
      "Episode 147\tTotal Average Score: 21.80\tMean: 30.78\tMin: 30.78\tMax: 30.78\tDuration: 26.64\n",
      "Episode 148\tTotal Average Score: 21.96\tMean: 22.84\tMin: 22.84\tMax: 22.84\tDuration: 26.54\n",
      "Episode 149\tTotal Average Score: 22.24\tMean: 32.41\tMin: 32.41\tMax: 32.41\tDuration: 26.57\n",
      "Episode 150\tTotal Average Score: 22.44\tMean: 29.47\tMin: 29.47\tMax: 29.47\tDuration: 26.52\n",
      "Episode 150\tTotal Average Score: 22.44\n",
      "Episode 151\tTotal Average Score: 22.63\tMean: 30.00\tMin: 30.00\tMax: 30.00\tDuration: 26.61\n",
      "Episode 152\tTotal Average Score: 22.84\tMean: 34.18\tMin: 34.18\tMax: 34.18\tDuration: 26.83\n",
      "Episode 153\tTotal Average Score: 23.08\tMean: 28.01\tMin: 28.01\tMax: 28.01\tDuration: 26.86\n",
      "Episode 154\tTotal Average Score: 23.27\tMean: 23.37\tMin: 23.37\tMax: 23.37\tDuration: 26.56\n",
      "Episode 155\tTotal Average Score: 23.53\tMean: 30.49\tMin: 30.49\tMax: 30.49\tDuration: 26.66\n",
      "Episode 156\tTotal Average Score: 23.79\tMean: 37.85\tMin: 37.85\tMax: 37.85\tDuration: 26.93\n",
      "Episode 157\tTotal Average Score: 23.85\tMean: 15.89\tMin: 15.89\tMax: 15.89\tDuration: 26.87\n",
      "Episode 158\tTotal Average Score: 24.15\tMean: 33.11\tMin: 33.11\tMax: 33.11\tDuration: 26.76\n",
      "Episode 159\tTotal Average Score: 24.34\tMean: 23.92\tMin: 23.92\tMax: 23.92\tDuration: 26.60\n",
      "Episode 160\tTotal Average Score: 24.49\tMean: 23.78\tMin: 23.78\tMax: 23.78\tDuration: 26.76\n",
      "Episode 160\tTotal Average Score: 24.49\n",
      "Episode 161\tTotal Average Score: 24.71\tMean: 32.77\tMin: 32.77\tMax: 32.77\tDuration: 26.85\n",
      "Episode 162\tTotal Average Score: 24.82\tMean: 27.73\tMin: 27.73\tMax: 27.73\tDuration: 26.74\n",
      "Episode 163\tTotal Average Score: 25.03\tMean: 23.75\tMin: 23.75\tMax: 23.75\tDuration: 26.79\n",
      "Episode 164\tTotal Average Score: 25.24\tMean: 33.68\tMin: 33.68\tMax: 33.68\tDuration: 26.90\n",
      "Episode 165\tTotal Average Score: 25.39\tMean: 22.21\tMin: 22.21\tMax: 22.21\tDuration: 26.89\n",
      "Episode 166\tTotal Average Score: 25.72\tMean: 37.08\tMin: 37.08\tMax: 37.08\tDuration: 26.89\n",
      "Episode 167\tTotal Average Score: 25.94\tMean: 30.77\tMin: 30.77\tMax: 30.77\tDuration: 26.80\n",
      "Episode 168\tTotal Average Score: 26.01\tMean: 31.20\tMin: 31.20\tMax: 31.20\tDuration: 26.69\n",
      "Episode 169\tTotal Average Score: 26.15\tMean: 30.46\tMin: 30.46\tMax: 30.46\tDuration: 26.53\n",
      "Episode 170\tTotal Average Score: 26.38\tMean: 35.21\tMin: 35.21\tMax: 35.21\tDuration: 26.66\n",
      "Episode 170\tTotal Average Score: 26.38\n",
      "Episode 171\tTotal Average Score: 26.52\tMean: 32.73\tMin: 32.73\tMax: 32.73\tDuration: 26.55\n",
      "Episode 172\tTotal Average Score: 26.68\tMean: 30.37\tMin: 30.37\tMax: 30.37\tDuration: 26.70\n",
      "Episode 173\tTotal Average Score: 26.90\tMean: 32.32\tMin: 32.32\tMax: 32.32\tDuration: 26.59\n",
      "Episode 174\tTotal Average Score: 27.02\tMean: 19.11\tMin: 19.11\tMax: 19.11\tDuration: 26.87\n",
      "Episode 175\tTotal Average Score: 27.21\tMean: 30.55\tMin: 30.55\tMax: 30.55\tDuration: 26.97\n",
      "Episode 176\tTotal Average Score: 27.34\tMean: 29.43\tMin: 29.43\tMax: 29.43\tDuration: 27.05\n",
      "Episode 177\tTotal Average Score: 27.51\tMean: 29.23\tMin: 29.23\tMax: 29.23\tDuration: 27.35\n",
      "Episode 178\tTotal Average Score: 27.62\tMean: 25.31\tMin: 25.31\tMax: 25.31\tDuration: 27.21\n",
      "Episode 179\tTotal Average Score: 27.73\tMean: 27.04\tMin: 27.04\tMax: 27.04\tDuration: 27.47\n",
      "Episode 180\tTotal Average Score: 27.85\tMean: 28.07\tMin: 28.07\tMax: 28.07\tDuration: 27.26\n",
      "Episode 180\tTotal Average Score: 27.85\n",
      "Episode 181\tTotal Average Score: 27.96\tMean: 31.16\tMin: 31.16\tMax: 31.16\tDuration: 27.28\n",
      "Episode 182\tTotal Average Score: 28.02\tMean: 33.37\tMin: 33.37\tMax: 33.37\tDuration: 27.21\n",
      "Episode 183\tTotal Average Score: 28.01\tMean: 28.35\tMin: 28.35\tMax: 28.35\tDuration: 27.25\n"
     ]
    },
    {
     "name": "stdout",
     "output_type": "stream",
     "text": [
      "Episode 184\tTotal Average Score: 28.12\tMean: 28.27\tMin: 28.27\tMax: 28.27\tDuration: 27.22\n",
      "Episode 185\tTotal Average Score: 28.22\tMean: 34.21\tMin: 34.21\tMax: 34.21\tDuration: 27.14\n",
      "Episode 186\tTotal Average Score: 28.46\tMean: 34.88\tMin: 34.88\tMax: 34.88\tDuration: 27.26\n",
      "Episode 187\tTotal Average Score: 28.49\tMean: 27.46\tMin: 27.46\tMax: 27.46\tDuration: 27.27\n",
      "Episode 188\tTotal Average Score: 28.46\tMean: 27.58\tMin: 27.58\tMax: 27.58\tDuration: 27.27\n",
      "Episode 189\tTotal Average Score: 28.64\tMean: 35.23\tMin: 35.23\tMax: 35.23\tDuration: 27.31\n",
      "Episode 190\tTotal Average Score: 28.64\tMean: 29.37\tMin: 29.37\tMax: 29.37\tDuration: 27.52\n",
      "Episode 190\tTotal Average Score: 28.64\n",
      "Episode 191\tTotal Average Score: 28.84\tMean: 33.43\tMin: 33.43\tMax: 33.43\tDuration: 27.68\n",
      "Episode 192\tTotal Average Score: 28.87\tMean: 31.20\tMin: 31.20\tMax: 31.20\tDuration: 27.07\n",
      "Episode 193\tTotal Average Score: 29.02\tMean: 28.67\tMin: 28.67\tMax: 28.67\tDuration: 27.35\n",
      "Episode 194\tTotal Average Score: 29.10\tMean: 36.44\tMin: 36.44\tMax: 36.44\tDuration: 27.28\n",
      "Episode 195\tTotal Average Score: 29.18\tMean: 26.71\tMin: 26.71\tMax: 26.71\tDuration: 27.18\n",
      "Episode 196\tTotal Average Score: 29.16\tMean: 14.49\tMin: 14.49\tMax: 14.49\tDuration: 27.31\n",
      "Episode 197\tTotal Average Score: 29.01\tMean: 22.29\tMin: 22.29\tMax: 22.29\tDuration: 27.06\n",
      "Episode 198\tTotal Average Score: 29.08\tMean: 30.42\tMin: 30.42\tMax: 30.42\tDuration: 27.51\n",
      "Episode 199\tTotal Average Score: 29.08\tMean: 33.62\tMin: 33.62\tMax: 33.62\tDuration: 27.23\n",
      "Episode 200\tTotal Average Score: 29.10\tMean: 30.72\tMin: 30.72\tMax: 30.72\tDuration: 27.37\n",
      "Episode 200\tTotal Average Score: 29.10\n",
      "Episode 201\tTotal Average Score: 29.03\tMean: 28.10\tMin: 28.10\tMax: 28.10\tDuration: 27.54\n",
      "Episode 202\tTotal Average Score: 29.05\tMean: 30.92\tMin: 30.92\tMax: 30.92\tDuration: 27.52\n",
      "Episode 203\tTotal Average Score: 29.11\tMean: 28.68\tMin: 28.68\tMax: 28.68\tDuration: 27.24\n",
      "Episode 204\tTotal Average Score: 29.15\tMean: 25.27\tMin: 25.27\tMax: 25.27\tDuration: 27.60\n",
      "Episode 205\tTotal Average Score: 29.22\tMean: 32.15\tMin: 32.15\tMax: 32.15\tDuration: 27.51\n",
      "Episode 206\tTotal Average Score: 29.29\tMean: 32.22\tMin: 32.22\tMax: 32.22\tDuration: 27.30\n",
      "Episode 207\tTotal Average Score: 29.32\tMean: 28.95\tMin: 28.95\tMax: 28.95\tDuration: 27.59\n",
      "Episode 208\tTotal Average Score: 29.39\tMean: 32.15\tMin: 32.15\tMax: 32.15\tDuration: 27.81\n",
      "Episode 209\tTotal Average Score: 29.40\tMean: 36.29\tMin: 36.29\tMax: 36.29\tDuration: 27.66\n",
      "Episode 210\tTotal Average Score: 29.43\tMean: 32.85\tMin: 32.85\tMax: 32.85\tDuration: 27.67\n",
      "Episode 210\tTotal Average Score: 29.43\n",
      "Episode 211\tTotal Average Score: 29.42\tMean: 26.92\tMin: 26.92\tMax: 26.92\tDuration: 27.63\n",
      "Episode 212\tTotal Average Score: 29.43\tMean: 30.93\tMin: 30.93\tMax: 30.93\tDuration: 27.77\n",
      "Episode 213\tTotal Average Score: 29.40\tMean: 32.53\tMin: 32.53\tMax: 32.53\tDuration: 28.08\n",
      "Episode 214\tTotal Average Score: 29.30\tMean: 24.40\tMin: 24.40\tMax: 24.40\tDuration: 27.80\n",
      "Episode 215\tTotal Average Score: 29.24\tMean: 26.05\tMin: 26.05\tMax: 26.05\tDuration: 27.87\n",
      "Episode 216\tTotal Average Score: 29.41\tMean: 36.00\tMin: 36.00\tMax: 36.00\tDuration: 27.91\n",
      "Episode 217\tTotal Average Score: 29.48\tMean: 31.84\tMin: 31.84\tMax: 31.84\tDuration: 28.01\n",
      "Episode 218\tTotal Average Score: 29.50\tMean: 35.38\tMin: 35.38\tMax: 35.38\tDuration: 27.66\n",
      "Episode 219\tTotal Average Score: 29.65\tMean: 32.68\tMin: 32.68\tMax: 32.68\tDuration: 27.80\n",
      "Episode 220\tTotal Average Score: 29.65\tMean: 33.04\tMin: 33.04\tMax: 33.04\tDuration: 27.75\n",
      "Episode 220\tTotal Average Score: 29.65\n",
      "Episode 221\tTotal Average Score: 29.62\tMean: 33.66\tMin: 33.66\tMax: 33.66\tDuration: 28.23\n",
      "Episode 222\tTotal Average Score: 29.56\tMean: 29.19\tMin: 29.19\tMax: 29.19\tDuration: 28.03\n",
      "Episode 223\tTotal Average Score: 29.49\tMean: 26.12\tMin: 26.12\tMax: 26.12\tDuration: 28.04\n",
      "Episode 224\tTotal Average Score: 29.45\tMean: 32.22\tMin: 32.22\tMax: 32.22\tDuration: 28.38\n",
      "Episode 225\tTotal Average Score: 29.46\tMean: 35.24\tMin: 35.24\tMax: 35.24\tDuration: 28.27\n",
      "Episode 226\tTotal Average Score: 29.45\tMean: 31.18\tMin: 31.18\tMax: 31.18\tDuration: 28.29\n",
      "Episode 227\tTotal Average Score: 29.36\tMean: 23.72\tMin: 23.72\tMax: 23.72\tDuration: 28.20\n",
      "Episode 228\tTotal Average Score: 29.49\tMean: 31.03\tMin: 31.03\tMax: 31.03\tDuration: 28.28\n",
      "Episode 229\tTotal Average Score: 29.44\tMean: 25.48\tMin: 25.48\tMax: 25.48\tDuration: 28.20\n",
      "Episode 230\tTotal Average Score: 29.63\tMean: 33.10\tMin: 33.10\tMax: 33.10\tDuration: 28.43\n",
      "Episode 230\tTotal Average Score: 29.63\n",
      "Episode 231\tTotal Average Score: 29.66\tMean: 37.93\tMin: 37.93\tMax: 37.93\tDuration: 28.03\n",
      "Episode 232\tTotal Average Score: 29.76\tMean: 30.69\tMin: 30.69\tMax: 30.69\tDuration: 28.06\n",
      "Episode 233\tTotal Average Score: 29.65\tMean: 19.26\tMin: 19.26\tMax: 19.26\tDuration: 28.36\n",
      "Episode 234\tTotal Average Score: 29.68\tMean: 33.18\tMin: 33.18\tMax: 33.18\tDuration: 28.35\n",
      "Episode 235\tTotal Average Score: 29.69\tMean: 32.87\tMin: 32.87\tMax: 32.87\tDuration: 28.75\n",
      "Episode 236\tTotal Average Score: 29.67\tMean: 31.33\tMin: 31.33\tMax: 31.33\tDuration: 28.45\n",
      "Episode 237\tTotal Average Score: 29.66\tMean: 32.12\tMin: 32.12\tMax: 32.12\tDuration: 28.59\n",
      "Episode 238\tTotal Average Score: 29.63\tMean: 27.63\tMin: 27.63\tMax: 27.63\tDuration: 28.49\n",
      "Episode 239\tTotal Average Score: 29.64\tMean: 29.25\tMin: 29.25\tMax: 29.25\tDuration: 28.54\n",
      "Episode 240\tTotal Average Score: 29.60\tMean: 26.73\tMin: 26.73\tMax: 26.73\tDuration: 28.62\n",
      "Episode 240\tTotal Average Score: 29.60\n",
      "Episode 241\tTotal Average Score: 29.71\tMean: 35.63\tMin: 35.63\tMax: 35.63\tDuration: 28.58\n",
      "Episode 242\tTotal Average Score: 29.73\tMean: 33.43\tMin: 33.43\tMax: 33.43\tDuration: 28.69\n",
      "Episode 243\tTotal Average Score: 29.74\tMean: 30.65\tMin: 30.65\tMax: 30.65\tDuration: 28.52\n",
      "Episode 244\tTotal Average Score: 29.93\tMean: 31.63\tMin: 31.63\tMax: 31.63\tDuration: 28.65\n",
      "Episode 245\tTotal Average Score: 29.95\tMean: 34.60\tMin: 34.60\tMax: 34.60\tDuration: 28.71\n",
      "Episode 246\tTotal Average Score: 29.98\tMean: 29.39\tMin: 29.39\tMax: 29.39\tDuration: 29.06\n",
      "Episode 247\tTotal Average Score: 29.96\tMean: 28.74\tMin: 28.74\tMax: 28.74\tDuration: 28.92\n",
      "Episode 248\tTotal Average Score: 30.04\tMean: 31.12\tMin: 31.12\tMax: 31.12\tDuration: 28.91\n",
      "Problem Solved after 248 epsisodes!! Total Average score: 30.04\n"
     ]
    }
   ],
   "source": [
    "import random\n",
    "import torch\n",
    "import time\n",
    "import numpy as np\n",
    "from collections import deque\n",
    "import matplotlib.pyplot as plt\n",
    "%matplotlib inline\n",
    "\n",
    "from ddpg_agent import Agent, ReplayBuffer\n",
    "\n",
    "agent = Agent(state_size=state_size, action_size=action_size, random_seed=7)\n",
    "# agent.actor_local.load_state_dict(torch.load('checkpoint_actor.pth'))\n",
    "# agent.critic_local.load_state_dict(torch.load('checkpoint_critic.pth'))\n",
    "\n",
    "def ddpg(n_episodes=5000, max_t=1000, print_every=10, learn_every=20):\n",
    "    total_scores_deque = deque(maxlen=100)\n",
    "    total_scores = []\n",
    "    \n",
    "    for i_episode in range(1, n_episodes+1):\n",
    "\n",
    "        env_info = env.reset(train_mode=True)[brain_name]\n",
    "        states = env_info.vector_observations\n",
    "        scores = np.zeros(num_agents)\n",
    "        agent.reset()\n",
    "        \n",
    "        start_time = time.time()\n",
    "        \n",
    "        for t in range(max_t):\n",
    "            actions = agent.act(states)\n",
    "            env_info = env.step(actions)[brain_name]\n",
    "            next_states = env_info.vector_observations\n",
    "            rewards = env_info.rewards\n",
    "            dones = env_info.local_done\n",
    "            \n",
    "            for state, action, reward, next_state, done in zip(states, actions, rewards, next_states, dones):\n",
    "                agent.step(state, action, reward, next_state, done)\n",
    "            \n",
    "            scores += env_info.rewards\n",
    "            states = next_states\n",
    "            \n",
    "            if t%learn_every == 0:\n",
    "                for _ in range(10):\n",
    "                    agent.start_learn()\n",
    "            \n",
    "            if np.any(dones):\n",
    "                break\n",
    "    \n",
    "        mean_score = np.mean(scores)\n",
    "        min_score = np.min(scores)\n",
    "        max_score = np.max(scores)\n",
    "        total_scores_deque.append(mean_score)\n",
    "        total_scores.append(mean_score)\n",
    "        total_average_score = np.mean(total_scores_deque)\n",
    "        duration = time.time() - start_time\n",
    "        \n",
    "        print('\\rEpisode {}\\tTotal Average Score: {:.2f}\\tMean: {:.2f}\\tMin: {:.2f}\\tMax: {:.2f}\\tDuration: {:.2f}'\n",
    "              .format(i_episode, total_average_score, mean_score, min_score, max_score, duration))\n",
    "\n",
    "        if i_episode % print_every == 0:\n",
    "            torch.save(agent.actor_local.state_dict(), 'checkpoint_actor_local.pth')\n",
    "            torch.save(agent.critic_local.state_dict(), 'checkpoint_critic_local.pth')\n",
    "            torch.save(agent.actor_target.state_dict(), 'checkpoint_actor_target.pth')\n",
    "            torch.save(agent.critic_target.state_dict(), 'checkpoint_critic_target.pth')\n",
    "            print('\\rEpisode {}\\tTotal Average Score: {:.2f}'.format(i_episode, total_average_score))  \n",
    "            \n",
    "        if total_average_score >= 30 and i_episode >= 100:\n",
    "            print('Problem Solved after {} epsisodes!! Total Average score: {:.2f}'.format(i_episode, total_average_score))\n",
    "            torch.save(agent.actor_local.state_dict(), 'checkpoint_actor_local.pth')\n",
    "            torch.save(agent.critic_local.state_dict(), 'checkpoint_critic_local.pth')\n",
    "            torch.save(agent.actor_target.state_dict(), 'checkpoint_actor_target.pth')\n",
    "            torch.save(agent.critic_target.state_dict(), 'checkpoint_critic_target.pth')\n",
    "            break\n",
    "    \n",
    "    return total_scores\n",
    "\n",
    "scores = ddpg()"
   ]
  },
  {
   "cell_type": "code",
   "execution_count": 8,
   "metadata": {},
   "outputs": [
    {
     "data": {
      "image/png": "[encoded data removed]",
      "text/plain": [
       "<matplotlib.figure.Figure at 0x7f8c0fd2d4e0>"
      ]
     },
     "metadata": {
      "needs_background": "light"
     },
     "output_type": "display_data"
    }
   ],
   "source": [
    "fig = plt.figure()\n",
    "ax = fig.add_subplot(111)\n",
    "plt.plot(np.arange(1, len(scores)+1), scores)\n",
    "plt.ylabel('Score')\n",
    "plt.xlabel('Episode #')\n",
    "plt.show()"
   ]
  },
  {
   "cell_type": "markdown",
   "metadata": {},
   "source": [
    "### 6. Watch the agent"
   ]
  },
  {
   "cell_type": "code",
   "execution_count": 11,
   "metadata": {},
   "outputs": [
    {
     "name": "stdout",
     "output_type": "stream",
     "text": [
      "Total score: 31.819999288767576\n"
     ]
    }
   ],
   "source": [
    "agent.actor_local.load_state_dict(torch.load('checkpoint_actor_local.pth', map_location='cpu'))\n",
    "agent.critic_local.load_state_dict(torch.load('checkpoint_critic_local.pth', map_location='cpu'))\n",
    "\n",
    "env_info = env.reset(train_mode=False)[brain_name]      # reset the environment    \n",
    "states = env_info.vector_observations                  # get the current state (for each agent)\n",
    "scores = np.zeros(num_agents)                          # initialize the score (for each agent)\n",
    "\n",
    "while True:\n",
    "    actions = agent.act(states)                        # select an action (for each agent)\n",
    "    env_info = env.step(actions)[brain_name]           # send all actions to tne environment\n",
    "    next_states = env_info.vector_observations         # get next state (for each agent)\n",
    "    rewards = env_info.rewards                         # get reward (for each agent)\n",
    "    dones = env_info.local_done                        # see if episode finished\n",
    "    scores += env_info.rewards                         # update the score (for each agent)\n",
    "    states = next_states                               # roll over states to next time step\n",
    "    if np.any(dones):                                  # exit loop if episode finished\n",
    "        break\n",
    "print('Total score: {}'.format(np.mean(scores)))"
   ]
  },
  {
   "cell_type": "code",
   "execution_count": 12,
   "metadata": {},
   "outputs": [],
   "source": [
    "env.close()"
   ]
  },
  {
   "cell_type": "code",
   "execution_count": null,
   "metadata": {},
   "outputs": [],
   "source": []
  }
 ],
 "metadata": {
  "kernelspec": {
   "display_name": "Python 3",
   "language": "python",
   "name": "python3"
  }
 },
 "nbformat": 4,
 "nbformat_minor": 2
}
